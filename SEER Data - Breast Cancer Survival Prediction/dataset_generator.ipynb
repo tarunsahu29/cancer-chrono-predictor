{
 "cells": [
  {
   "cell_type": "code",
   "execution_count": 1,
   "metadata": {},
   "outputs": [],
   "source": [
    "import pandas as pd"
   ]
  },
  {
   "cell_type": "code",
   "execution_count": 2,
   "metadata": {},
   "outputs": [],
   "source": [
    "\n",
    "# Load your dataset\n",
    "df = pd.read_csv('raw_data.csv')"
   ]
  },
  {
   "cell_type": "code",
   "execution_count": 3,
   "metadata": {},
   "outputs": [],
   "source": [
    "# Convert 'months' column into 'year'\n",
    "df['survival_period'] = pd.cut(df['Survival Months'], bins=range(0, 108, 12), labels=False)\n",
    "df['survival_period'] = df['survival_period'] + 1"
   ]
  },
  {
   "cell_type": "code",
   "execution_count": 4,
   "metadata": {},
   "outputs": [],
   "source": [
    "# Dynamically map 'Race' values to numerical values\n",
    "race_mapping = {race: idx for idx, race in enumerate(df['Race'].unique())}\n",
    "df['race_code'] = df['Race'].map(race_mapping)"
   ]
  },
  {
   "cell_type": "code",
   "execution_count": 5,
   "metadata": {},
   "outputs": [],
   "source": [
    "# Dynamically map 'Marital Status' values to numerical values\n",
    "marital_status_mapping = {marital_status: idx for idx, marital_status in enumerate(df['Marital Status'].unique())}\n",
    "df['marital_status_code'] = df['Marital Status'].map(marital_status_mapping)"
   ]
  },
  {
   "cell_type": "code",
   "execution_count": 6,
   "metadata": {},
   "outputs": [],
   "source": [
    "# Dynamically map 'T Stage' values to numerical values\n",
    "t_stage_mapping = {t_stage: idx for idx, t_stage in enumerate(df['T Stage'].unique())}\n",
    "df['t_stage_code'] = df['T Stage'].map(t_stage_mapping)"
   ]
  },
  {
   "cell_type": "code",
   "execution_count": 7,
   "metadata": {},
   "outputs": [],
   "source": [
    "# Dynamically map 'N Stage' values to numerical values\n",
    "n_stage_mapping = {n_stage: idx for idx, n_stage in enumerate(df['N Stage'].unique())}\n",
    "df['n_stage_code'] = df['N Stage'].map(n_stage_mapping)"
   ]
  },
  {
   "cell_type": "code",
   "execution_count": 8,
   "metadata": {},
   "outputs": [],
   "source": [
    "# Dynamically map '6th Stage' values to numerical values\n",
    "sixth_stage_mapping = {sixth_stage: idx for idx, sixth_stage in enumerate(df['6th Stage'].unique())}\n",
    "df['sixth_stage_code'] = df['6th Stage'].map(sixth_stage_mapping)"
   ]
  },
  {
   "cell_type": "code",
   "execution_count": 9,
   "metadata": {},
   "outputs": [],
   "source": [
    "# Dynamically map 'Grade' values to numerical values\n",
    "grade_mapping = {grade: idx for idx, grade in enumerate(df['Grade'].unique())}\n",
    "df['grade_code'] = df['Grade'].map(grade_mapping)"
   ]
  },
  {
   "cell_type": "code",
   "execution_count": 10,
   "metadata": {},
   "outputs": [],
   "source": [
    "# Dynamically map 'A Stage' values to numerical values\n",
    "a_stage_mapping = {a_stage: idx for idx, a_stage in enumerate(df['A Stage'].unique())}\n",
    "df['a_stage_code'] = df['A Stage'].map(a_stage_mapping)"
   ]
  },
  {
   "cell_type": "code",
   "execution_count": 11,
   "metadata": {},
   "outputs": [],
   "source": [
    "# Dynamically map 'Estrogen Status' values to numerical values\n",
    "estrogen_status_mapping = {estrogen_status: idx for idx, estrogen_status in enumerate(df['Estrogen Status'].unique())}\n",
    "df['estrogen_status_code'] = df['Estrogen Status'].map(estrogen_status_mapping)"
   ]
  },
  {
   "cell_type": "code",
   "execution_count": 12,
   "metadata": {},
   "outputs": [],
   "source": [
    "# Dynamically map 'Progesterone Status' values to numerical values\n",
    "progesterone_status_mapping = {progesterone_status: idx for idx, progesterone_status in enumerate(df['Progesterone Status'].unique())}\n",
    "df['progesterone_status_code'] = df['Progesterone Status'].map(progesterone_status_mapping)"
   ]
  },
  {
   "cell_type": "code",
   "execution_count": 13,
   "metadata": {},
   "outputs": [],
   "source": [
    "# Dynamically map 'Status' values to numerical values\n",
    "status_mapping = {status: idx for idx, status in enumerate(df['Status'].unique())}\n",
    "df['status_code'] = df['Status'].map(status_mapping)"
   ]
  },
  {
   "cell_type": "code",
   "execution_count": 14,
   "metadata": {},
   "outputs": [
    {
     "name": "stdout",
     "output_type": "stream",
     "text": [
      "   Age                                               Race  \\\n",
      "0   43  Other (American Indian/AK Native, Asian/Pacifi...   \n",
      "1   47  Other (American Indian/AK Native, Asian/Pacifi...   \n",
      "2   67                                              White   \n",
      "3   46                                              White   \n",
      "4   63                                              White   \n",
      "\n",
      "                   Marital Status  Unnamed: 3 T Stage N Stage 6th Stage  \\\n",
      "0  Married (including common law)         NaN      T2      N3      IIIC   \n",
      "1  Married (including common law)         NaN      T2      N2      IIIA   \n",
      "2  Married (including common law)         NaN      T2      N1       IIB   \n",
      "3                        Divorced         NaN      T1      N1       IIA   \n",
      "4  Married (including common law)         NaN      T2      N2      IIIA   \n",
      "\n",
      "                                 Grade   A Stage  Tumor Size  ... race_code  \\\n",
      "0  Moderately differentiated; Grade II  Regional          40  ...         0   \n",
      "1  Moderately differentiated; Grade II  Regional          45  ...         0   \n",
      "2     Poorly differentiated; Grade III  Regional          25  ...         1   \n",
      "3  Moderately differentiated; Grade II  Regional          19  ...         1   \n",
      "4  Moderately differentiated; Grade II  Regional          35  ...         1   \n",
      "\n",
      "  marital_status_code  t_stage_code  n_stage_code  sixth_stage_code  \\\n",
      "0                   0             0             0                 0   \n",
      "1                   0             0             1                 1   \n",
      "2                   0             0             2                 2   \n",
      "3                   1             1             2                 3   \n",
      "4                   0             0             1                 1   \n",
      "\n",
      "  grade_code  a_stage_code  estrogen_status_code  progesterone_status_code  \\\n",
      "0          0             0                     0                         0   \n",
      "1          0             0                     0                         0   \n",
      "2          1             0                     0                         0   \n",
      "3          0             0                     0                         0   \n",
      "4          0             0                     0                         0   \n",
      "\n",
      "   status_code  \n",
      "0            0  \n",
      "1            0  \n",
      "2            1  \n",
      "3            1  \n",
      "4            1  \n",
      "\n",
      "[5 rows x 27 columns]\n"
     ]
    }
   ],
   "source": [
    "# Display the updated dataframe\n",
    "print(df.head())"
   ]
  },
  {
   "cell_type": "code",
   "execution_count": 15,
   "metadata": {},
   "outputs": [],
   "source": [
    "# Save the updated dataframe to a new CSV file\n",
    "df.to_csv('data.csv', index=False)"
   ]
  }
 ],
 "metadata": {
  "kernelspec": {
   "display_name": "Python 3",
   "language": "python",
   "name": "python3"
  },
  "language_info": {
   "codemirror_mode": {
    "name": "ipython",
    "version": 3
   },
   "file_extension": ".py",
   "mimetype": "text/x-python",
   "name": "python",
   "nbconvert_exporter": "python",
   "pygments_lexer": "ipython3",
   "version": "3.12.0"
  }
 },
 "nbformat": 4,
 "nbformat_minor": 2
}
